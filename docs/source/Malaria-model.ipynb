{
 "cells": [
  {
   "cell_type": "markdown",
   "id": "18af1ba8-7390-4499-b4a5-37ffbb2f9d13",
   "metadata": {},
   "source": [
    "# This notebook is for creating and running the malaria model for the epi paper\n",
    "\n",
    "Model adapted from: https://www.ncbi.nlm.nih.gov/pmc/articles/PMC10733109/"
   ]
  },
  {
   "cell_type": "markdown",
   "id": "c18999f5-89be-4075-8d38-95cb4b5f446c",
   "metadata": {},
   "source": [
    "### Load dependencies"
   ]
  },
  {
   "cell_type": "code",
   "execution_count": 1,
   "id": "ab11100d-9b10-40a3-8199-7ba5c198cc82",
   "metadata": {},
   "outputs": [],
   "source": [
    "import os\n",
    "import json\n",
    "import sympy\n",
    "import torch\n",
    "import numpy as np\n",
    "import pandas as pd\n",
    "from typing import Dict, List, Callable\n",
    "\n",
    "# MIRA modeling dependencies\n",
    "from mira.metamodel import *\n",
    "from mira.metamodel.ops import stratify\n",
    "from mira.examples.concepts import susceptible, exposed, infected, recovered\n",
    "from mira.modeling import Model\n",
    "from mira.modeling.amr.petrinet import AMRPetriNetModel, template_model_to_petrinet_json\n",
    "from mira.sources.amr.petrinet import template_model_from_amr_json\n",
    "from mira.metamodel.io import model_to_json_file, model_from_json_file\n",
    "\n",
    "# PyCIEMSS dependencies\n",
    "import pyciemss\n",
    "import pyciemss.visuals.plots as plots\n",
    "import pyciemss.visuals.vega as vega\n",
    "import pyciemss.visuals.trajectories as trajectories\n",
    "from pyciemss.integration_utils.intervention_builder import (\n",
    "    param_value_objective,\n",
    "    start_time_objective,\n",
    ")"
   ]
  },
  {
   "cell_type": "code",
   "execution_count": null,
   "id": "f821abe7-df8f-4d05-8c92-f96b7bb1ded7",
   "metadata": {},
   "outputs": [],
   "source": []
  },
  {
   "cell_type": "code",
   "execution_count": null,
   "id": "1ca06fee-8207-46a8-9af1-9275d76ff4a7",
   "metadata": {},
   "outputs": [],
   "source": []
  },
  {
   "cell_type": "code",
   "execution_count": null,
   "id": "69898d42-16a4-4a5c-8794-2873b66eca0d",
   "metadata": {},
   "outputs": [],
   "source": []
  },
  {
   "cell_type": "code",
   "execution_count": null,
   "id": "1c238934-e74f-4f35-93d3-4dea8f9ffac9",
   "metadata": {},
   "outputs": [],
   "source": []
  },
  {
   "cell_type": "code",
   "execution_count": null,
   "id": "903b6098-6684-4503-b5f6-7cb9469381b4",
   "metadata": {},
   "outputs": [],
   "source": []
  },
  {
   "cell_type": "code",
   "execution_count": null,
   "id": "c52e2d12-7a02-4cca-8d86-06cb03b94bc3",
   "metadata": {},
   "outputs": [],
   "source": []
  },
  {
   "cell_type": "code",
   "execution_count": null,
   "id": "e4394ade-03e0-41be-a3b8-4d9b50aa59e9",
   "metadata": {},
   "outputs": [],
   "source": []
  },
  {
   "cell_type": "code",
   "execution_count": null,
   "id": "e84d2cad-fb46-4651-a0d5-fb7f46badb39",
   "metadata": {},
   "outputs": [],
   "source": []
  },
  {
   "cell_type": "code",
   "execution_count": null,
   "id": "c9f283db-4eca-485d-9428-5a468e83ce3a",
   "metadata": {},
   "outputs": [],
   "source": []
  },
  {
   "cell_type": "code",
   "execution_count": null,
   "id": "ac67f173-a5ec-4eae-83ea-3615a72079cb",
   "metadata": {},
   "outputs": [],
   "source": []
  },
  {
   "cell_type": "code",
   "execution_count": null,
   "id": "1aa98b0f-3413-4aa1-b3b6-3e46b8928a86",
   "metadata": {},
   "outputs": [],
   "source": []
  },
  {
   "cell_type": "code",
   "execution_count": null,
   "id": "2de7321b-bc70-4730-9c91-1bd3bfeed9c6",
   "metadata": {},
   "outputs": [],
   "source": []
  }
 ],
 "metadata": {
  "kernelspec": {
   "display_name": "Python 3 (ipykernel)",
   "language": "python",
   "name": "python3"
  },
  "language_info": {
   "codemirror_mode": {
    "name": "ipython",
    "version": 3
   },
   "file_extension": ".py",
   "mimetype": "text/x-python",
   "name": "python",
   "nbconvert_exporter": "python",
   "pygments_lexer": "ipython3",
   "version": "3.10.9"
  }
 },
 "nbformat": 4,
 "nbformat_minor": 5
}
